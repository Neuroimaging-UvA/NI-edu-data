{
 "cells": [
  {
   "cell_type": "code",
   "execution_count": 1,
   "metadata": {},
   "outputs": [
    {
     "name": "stderr",
     "output_type": "stream",
     "text": [
      "/opt/conda/lib/python3.7/site-packages/sklearn/externals/joblib/__init__.py:15: DeprecationWarning: sklearn.externals.joblib is deprecated in 0.21 and will be removed in 0.23. Please import this functionality directly from joblib, which can be installed with: pip install joblib. If this warning is raised when loading pickled models, you may need to re-serialize those models with scikit-learn 0.21+.\n",
      "  warnings.warn(msg, category=DeprecationWarning)\n"
     ]
    }
   ],
   "source": [
    "import seaborn as sns\n",
    "import matplotlib.pyplot as plt\n",
    "from nitools.firstlevel import Dataset\n",
    "from nistats.hemodynamic_models import glover_hrf"
   ]
  },
  {
   "cell_type": "markdown",
   "metadata": {},
   "source": [
    "## Define analysis code\n",
    "Some custom classes."
   ]
  },
  {
   "cell_type": "markdown",
   "metadata": {},
   "source": [
    "## Define data+task set\n",
    "Corresponding BIDS-dir, subject-identifier, etc. etc."
   ]
  },
  {
   "cell_type": "code",
   "execution_count": 5,
   "metadata": {},
   "outputs": [
    {
     "name": "stdout",
     "output_type": "stream",
     "text": [
      "Found 2 complete runs for task flocBLOCKED\n"
     ]
    }
   ],
   "source": [
    "ds = Dataset(bids_dir='/home/lsnoek1/spinoza_data/ni-edu/bids', sub='05', n_jobs=1)\n",
    "ds.create_taskset(\n",
    "    task='flocBLOCKED',\n",
    "    space='fsaverage6',\n",
    "    tr=0.7,\n",
    "    acq=None,\n",
    "    ses=True,\n",
    "    hemi='R',\n",
    "    reference_run=-1,\n",
    "    use_gm_mask=True,\n",
    "    gm_threshold=0.5\n",
    ")"
   ]
  },
  {
   "cell_type": "markdown",
   "metadata": {},
   "source": [
    "## Check floc (BLOCKED) localizer"
   ]
  },
  {
   "cell_type": "code",
   "execution_count": null,
   "metadata": {},
   "outputs": [],
   "source": [
    "ds.flocBLOCKED.preprocess(\n",
    "    df_filter=None,\n",
    "    regress_confounds=False,\n",
    "    conf_vars=None,\n",
    "    smoothing_fwhm=3,\n",
    "    hp_cutoff=100\n",
    ")"
   ]
  },
  {
   "cell_type": "code",
   "execution_count": null,
   "metadata": {},
   "outputs": [],
   "source": [
    "ds.flocBLOCKED.glm_detect(hrf_model='glover')\n",
    "floc_mask = ds.flocBLOCKED.compute_fxe('4*face - object - place - body - character', stat_type='t')\n",
    "ds.visualize(floc_mask, space='fsaverage6', threshold=4)"
   ]
  },
  {
   "cell_type": "code",
   "execution_count": null,
   "metadata": {},
   "outputs": [],
   "source": [
    "ds.flocBLOCKED.plot_design(exclude_confs=True)"
   ]
  },
  {
   "cell_type": "code",
   "execution_count": null,
   "metadata": {},
   "outputs": [],
   "source": [
    "import numpy as np\n",
    "from scipy.stats import pearsonr\n",
    "\n",
    "dm2 = ds.flocBLOCKED.glm['dms'][0]\n",
    "dmfsl = np.loadtxt('sub-03old/ses-1.feat/design.mat', skiprows=5)\n",
    "\n",
    "fig, ax = plt.subplots(nrows=12, figsize=(15, 15))\n",
    "for i, col in enumerate(['face', 'body', 'place', 'character', 'object', 'response',\n",
    "                         'rot_x', 'rot_y', 'rot_z', 'trans_x', 'trans_y', 'trans_z']):\n",
    "    print(pearsonr(dm2.loc[:, col].values, dmfsl[:, i]))\n",
    "    ax[i].plot(dm2.loc[:, col].values)\n",
    "    ax[i].plot(dmfsl[:, i])"
   ]
  },
  {
   "cell_type": "markdown",
   "metadata": {},
   "source": [
    "## Check floc (ER) HRF mapper"
   ]
  },
  {
   "cell_type": "code",
   "execution_count": null,
   "metadata": {},
   "outputs": [],
   "source": [
    "ds.create_taskset(\n",
    "    task='flocER',\n",
    "    space='fsaverage6',\n",
    "    tr=0.7,\n",
    "    acq=None,\n",
    "    ses=True,\n",
    "    hemi='R',\n",
    "    reference_run=-1,\n",
    "    use_gm_mask=True,\n",
    "    gm_threshold=0.5\n",
    ")"
   ]
  },
  {
   "cell_type": "code",
   "execution_count": null,
   "metadata": {},
   "outputs": [],
   "source": [
    "ds.flocER.preprocess(\n",
    "    df_filter=None,\n",
    "    regress_confounds=False,\n",
    "    conf_vars=None,\n",
    "    smoothing_fwhm=5,\n",
    "    hp_cutoff=100\n",
    ")"
   ]
  },
  {
   "cell_type": "code",
   "execution_count": null,
   "metadata": {},
   "outputs": [],
   "source": [
    "ds.flocER.glm_detect(hrf_model='glover')\n",
    "floc_mask = ds.flocER.compute_fxe('4*face - object - place - body - character', stat_type='t')\n",
    "ds.visualize(floc_mask, space='fsaverage6', threshold=3)"
   ]
  },
  {
   "cell_type": "code",
   "execution_count": null,
   "metadata": {},
   "outputs": [],
   "source": [
    "ds.flocER.plot_design(exclude_confs=True)"
   ]
  },
  {
   "cell_type": "markdown",
   "metadata": {},
   "source": [
    "### Fit Responsefitter"
   ]
  },
  {
   "cell_type": "code",
   "execution_count": null,
   "metadata": {},
   "outputs": [],
   "source": [
    "ds.flocER.shape_estimation(\n",
    "    osf=30,\n",
    "    TR=0.7,\n",
    "    slice_time_ref=0.5,\n",
    "    n_regressors=7,\n",
    "    basis_set='fourier',\n",
    "    interval=[0, 14],\n",
    "    separate_conditions=True\n",
    ")"
   ]
  },
  {
   "cell_type": "code",
   "execution_count": null,
   "metadata": {},
   "outputs": [],
   "source": [
    "ds.plot_hrfs(taskset='flocER', rsq_cutoff=0.2)"
   ]
  },
  {
   "cell_type": "markdown",
   "metadata": {},
   "source": [
    "Or plot them for the FFA (for face-HRFs only):"
   ]
  },
  {
   "cell_type": "code",
   "execution_count": null,
   "metadata": {},
   "outputs": [],
   "source": [
    "ds.plot_hrfs(taskset='flocER', mask=floc_mask > 7, condition='face')"
   ]
  },
  {
   "cell_type": "markdown",
   "metadata": {},
   "source": [
    "## Single-trial faces"
   ]
  },
  {
   "cell_type": "code",
   "execution_count": null,
   "metadata": {},
   "outputs": [],
   "source": [
    "def filter_face(df):\n",
    "    df_filt = df.query(\"event_type == 'face' & phase == 0\").drop('trial_type', axis=1)\n",
    "    df_filt['trial_type'] = 'face'\n",
    "    return df_filt\n",
    "\n",
    "def filter_expressive(df):\n",
    "    df_filt = df = df.query(\"event_type == 'face' & phase == 0\")\n",
    "    return df_filt"
   ]
  },
  {
   "cell_type": "code",
   "execution_count": null,
   "metadata": {
    "scrolled": true
   },
   "outputs": [],
   "source": [
    "#ds.create_taskset(task='face', space='fsaverage5', acq='Mb4Mm27Tr700', ses=True, hemi='R')\n",
    "#ds.face.preprocess(smoothing_fwhm=4, df_filter=filter_face)\n",
    "#ds.face.glm_detect(hrf_model='glover', noise_model='ols', TR=.7)\n",
    "#face_univar = ds.face.compute_fxe('face', stat_type='t')\n",
    "ds.visualize(face_univar, space='fsaverage5', threshold=3, hemi='R', vmax=9)"
   ]
  },
  {
   "cell_type": "code",
   "execution_count": null,
   "metadata": {},
   "outputs": [],
   "source": [
    "ds.face.glm_detect(hrf_model=rfv.loc[:, floc_mask > 4].values.mean(axis=1), noise_model='ols', TR=.7)\n",
    "face_univar = ds.face.compute_fxe('face', stat_type='t')\n",
    "ds.visualize(face_univar, space='fsaverage5', threshold=3, hemi='R', vmax=9)"
   ]
  },
  {
   "cell_type": "markdown",
   "metadata": {},
   "source": [
    "## Check out different contrasts\n",
    "E.g., face sex."
   ]
  },
  {
   "cell_type": "code",
   "execution_count": null,
   "metadata": {},
   "outputs": [],
   "source": [
    "def filter_face_sex(df):\n",
    "    df_filt = df.query(\"event_type == 'face' & phase == 0\").drop('trial_type', axis=1)\n",
    "    df_filt = df_filt.rename(columns={'face_sex': 'trial_type'})\n",
    "    return df_filt"
   ]
  },
  {
   "cell_type": "code",
   "execution_count": null,
   "metadata": {},
   "outputs": [],
   "source": [
    "ds.face.preprocess(smoothing_fwhm=4, df_filter=filter_face_sex)\n",
    "ds.face.glm_detect(hrf_model='glover', noise_model='ols', TR=.7)\n",
    "face_sex_img = ds.face.compute_fxe('female - male', stat_type='t')\n",
    "ds.visualize(face_sex_img, surface=True, threshold=3, hemi='R')"
   ]
  },
  {
   "cell_type": "markdown",
   "metadata": {},
   "source": [
    "Or parametric modulation of attractiveness."
   ]
  },
  {
   "cell_type": "code",
   "execution_count": null,
   "metadata": {},
   "outputs": [],
   "source": [
    "def filter_face_attractiveness(df):\n",
    "    df_filt = df.query(\"event_type == 'face' & phase == 0\").drop('trial_type', axis=1)\n",
    "    df_filt['trial_type'] = 'face'\n",
    "    df_filt['modulation'] = 1\n",
    "    df2 = df_filt.copy()\n",
    "    mod = df2.loc[:, 'attractiveness'].values\n",
    "    df2.loc[:, 'modulation'] = mod - mod.mean()\n",
    "    df2['trial_type'] = 'face_attractiveness'\n",
    "    df = pd.concat((df_filt, df2), axis=0)\n",
    "    return df"
   ]
  },
  {
   "cell_type": "code",
   "execution_count": null,
   "metadata": {},
   "outputs": [],
   "source": [
    "ds.face.preprocess(smoothing_fwhm=4, df_filter=filter_face_attractiveness)\n",
    "ds.face.glm_detect(hrf_model='glover', noise_model='ols', TR=.7)\n",
    "face_attractiveness_img = ds.face.compute_fxe('face_attractiveness', stat_type='t')\n",
    "ds.visualize(face_attractiveness_img, surface=True, threshold=3, hemi='R')"
   ]
  }
 ],
 "metadata": {
  "kernelspec": {
   "display_name": "Python 3",
   "language": "python",
   "name": "python3"
  },
  "language_info": {
   "codemirror_mode": {
    "name": "ipython",
    "version": 3
   },
   "file_extension": ".py",
   "mimetype": "text/x-python",
   "name": "python",
   "nbconvert_exporter": "python",
   "pygments_lexer": "ipython3",
   "version": "3.7.3"
  }
 },
 "nbformat": 4,
 "nbformat_minor": 2
}
